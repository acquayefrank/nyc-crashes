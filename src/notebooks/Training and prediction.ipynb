{
 "cells": [
  {
   "cell_type": "code",
   "execution_count": 1,
   "metadata": {
    "id": "K3GlROi_Lob6"
   },
   "outputs": [],
   "source": [
    "import pandas as pd\n",
    "import requests\n",
    "from matplotlib import pyplot as plt\n",
    "import numpy as np\n",
    "import operator\n",
    "from collections import Counter\n",
    "from datetime import datetime\n",
    "from tqdm.notebook import tqdm\n",
    "import catboost\n",
    "from catboost import CatBoostRegressor"
   ]
  },
  {
   "cell_type": "markdown",
   "metadata": {},
   "source": [
    "## Prepare data"
   ]
  },
  {
   "cell_type": "code",
   "execution_count": 2,
   "metadata": {
    "colab": {
     "base_uri": "https://localhost:8080/",
     "height": 426
    },
    "id": "i3PGZ1I5Lob_",
    "outputId": "553e2a33-039c-4339-c554-8a49cdffd456"
   },
   "outputs": [
    {
     "name": "stdout",
     "output_type": "stream",
     "text": [
      "1391117\n"
     ]
    },
    {
     "data": {
      "text/html": [
       "<div>\n",
       "<style scoped>\n",
       "    .dataframe tbody tr th:only-of-type {\n",
       "        vertical-align: middle;\n",
       "    }\n",
       "\n",
       "    .dataframe tbody tr th {\n",
       "        vertical-align: top;\n",
       "    }\n",
       "\n",
       "    .dataframe thead th {\n",
       "        text-align: right;\n",
       "    }\n",
       "</style>\n",
       "<table border=\"1\" class=\"dataframe\">\n",
       "  <thead>\n",
       "    <tr style=\"text-align: right;\">\n",
       "      <th></th>\n",
       "      <th>CRASH DATE</th>\n",
       "      <th>CRASH TIME</th>\n",
       "      <th>BOROUGH</th>\n",
       "      <th>ZIP CODE</th>\n",
       "      <th>LATITUDE</th>\n",
       "      <th>LONGITUDE</th>\n",
       "      <th>LOCATION</th>\n",
       "      <th>ON STREET NAME</th>\n",
       "      <th>CROSS STREET NAME</th>\n",
       "      <th>OFF STREET NAME</th>\n",
       "      <th>...</th>\n",
       "      <th>CONTRIBUTING FACTOR VEHICLE 2</th>\n",
       "      <th>CONTRIBUTING FACTOR VEHICLE 3</th>\n",
       "      <th>CONTRIBUTING FACTOR VEHICLE 4</th>\n",
       "      <th>CONTRIBUTING FACTOR VEHICLE 5</th>\n",
       "      <th>COLLISION_ID</th>\n",
       "      <th>VEHICLE TYPE CODE 1</th>\n",
       "      <th>VEHICLE TYPE CODE 2</th>\n",
       "      <th>VEHICLE TYPE CODE 3</th>\n",
       "      <th>VEHICLE TYPE CODE 4</th>\n",
       "      <th>VEHICLE TYPE CODE 5</th>\n",
       "    </tr>\n",
       "  </thead>\n",
       "  <tbody>\n",
       "    <tr>\n",
       "      <th>1</th>\n",
       "      <td>07/03/2020</td>\n",
       "      <td>8:00</td>\n",
       "      <td>NaN</td>\n",
       "      <td>NaN</td>\n",
       "      <td>40.74947</td>\n",
       "      <td>-73.75640</td>\n",
       "      <td>(40.74947, -73.7564)</td>\n",
       "      <td>LONG ISLAND EXPRESSWAY</td>\n",
       "      <td>NaN</td>\n",
       "      <td>NaN</td>\n",
       "      <td>...</td>\n",
       "      <td>Unspecified</td>\n",
       "      <td>NaN</td>\n",
       "      <td>NaN</td>\n",
       "      <td>NaN</td>\n",
       "      <td>4325419</td>\n",
       "      <td>Pick-up Truck</td>\n",
       "      <td>Sedan</td>\n",
       "      <td>NaN</td>\n",
       "      <td>NaN</td>\n",
       "      <td>NaN</td>\n",
       "    </tr>\n",
       "    <tr>\n",
       "      <th>2</th>\n",
       "      <td>04/27/2020</td>\n",
       "      <td>10:00</td>\n",
       "      <td>QUEENS</td>\n",
       "      <td>11102</td>\n",
       "      <td>40.77677</td>\n",
       "      <td>-73.93453</td>\n",
       "      <td>(40.77677, -73.93453)</td>\n",
       "      <td>26 AVENUE</td>\n",
       "      <td>2 STREET</td>\n",
       "      <td>NaN</td>\n",
       "      <td>...</td>\n",
       "      <td>NaN</td>\n",
       "      <td>NaN</td>\n",
       "      <td>NaN</td>\n",
       "      <td>NaN</td>\n",
       "      <td>4310759</td>\n",
       "      <td>Station Wagon/Sport Utility Vehicle</td>\n",
       "      <td>NaN</td>\n",
       "      <td>NaN</td>\n",
       "      <td>NaN</td>\n",
       "      <td>NaN</td>\n",
       "    </tr>\n",
       "    <tr>\n",
       "      <th>3</th>\n",
       "      <td>07/01/2020</td>\n",
       "      <td>22:53</td>\n",
       "      <td>BROOKLYN</td>\n",
       "      <td>11203</td>\n",
       "      <td>40.64213</td>\n",
       "      <td>-73.92936</td>\n",
       "      <td>(40.64213, -73.92936)</td>\n",
       "      <td>UTICA AVENUE</td>\n",
       "      <td>AVENUE D</td>\n",
       "      <td>NaN</td>\n",
       "      <td>...</td>\n",
       "      <td>Unspecified</td>\n",
       "      <td>NaN</td>\n",
       "      <td>NaN</td>\n",
       "      <td>NaN</td>\n",
       "      <td>4325642</td>\n",
       "      <td>Sedan</td>\n",
       "      <td>Sedan</td>\n",
       "      <td>NaN</td>\n",
       "      <td>NaN</td>\n",
       "      <td>NaN</td>\n",
       "    </tr>\n",
       "  </tbody>\n",
       "</table>\n",
       "<p>3 rows × 29 columns</p>\n",
       "</div>"
      ],
      "text/plain": [
       "   CRASH DATE CRASH TIME   BOROUGH ZIP CODE  LATITUDE  LONGITUDE  \\\n",
       "1  07/03/2020       8:00       NaN      NaN  40.74947  -73.75640   \n",
       "2  04/27/2020      10:00    QUEENS    11102  40.77677  -73.93453   \n",
       "3  07/01/2020      22:53  BROOKLYN    11203  40.64213  -73.92936   \n",
       "\n",
       "                LOCATION                    ON STREET NAME CROSS STREET NAME  \\\n",
       "1   (40.74947, -73.7564)  LONG ISLAND EXPRESSWAY                         NaN   \n",
       "2  (40.77677, -73.93453)  26 AVENUE                                 2 STREET   \n",
       "3  (40.64213, -73.92936)  UTICA AVENUE                              AVENUE D   \n",
       "\n",
       "  OFF STREET NAME  ...  CONTRIBUTING FACTOR VEHICLE 2  \\\n",
       "1             NaN  ...                    Unspecified   \n",
       "2             NaN  ...                            NaN   \n",
       "3             NaN  ...                    Unspecified   \n",
       "\n",
       "   CONTRIBUTING FACTOR VEHICLE 3  CONTRIBUTING FACTOR VEHICLE 4  \\\n",
       "1                            NaN                            NaN   \n",
       "2                            NaN                            NaN   \n",
       "3                            NaN                            NaN   \n",
       "\n",
       "   CONTRIBUTING FACTOR VEHICLE 5  COLLISION_ID  \\\n",
       "1                            NaN       4325419   \n",
       "2                            NaN       4310759   \n",
       "3                            NaN       4325642   \n",
       "\n",
       "                   VEHICLE TYPE CODE 1  VEHICLE TYPE CODE 2  \\\n",
       "1                        Pick-up Truck                Sedan   \n",
       "2  Station Wagon/Sport Utility Vehicle                  NaN   \n",
       "3                                Sedan                Sedan   \n",
       "\n",
       "   VEHICLE TYPE CODE 3 VEHICLE TYPE CODE 4 VEHICLE TYPE CODE 5  \n",
       "1                  NaN                 NaN                 NaN  \n",
       "2                  NaN                 NaN                 NaN  \n",
       "3                  NaN                 NaN                 NaN  \n",
       "\n",
       "[3 rows x 29 columns]"
      ]
     },
     "execution_count": 2,
     "metadata": {},
     "output_type": "execute_result"
    }
   ],
   "source": [
    "df = pd.read_csv('/Users/alex/Github/nyc-crashes/src/data/crashes-20201220-215930.csv', low_memory=False)\n",
    "df = df.dropna(subset=['ON STREET NAME'])\n",
    "print(len(df))\n",
    "df.head(3)"
   ]
  },
  {
   "cell_type": "code",
   "execution_count": 15,
   "metadata": {
    "id": "_LxypkR0LocB",
    "outputId": "b6f87975-37fd-4c6c-a314-3edd0786cb0d"
   },
   "outputs": [],
   "source": [
    "streets_file = \"/Users/alex/Github/nyc-crashes/src/code/utils/streets_for_predictions.txt\"\n",
    "\n",
    "with open(streets_file) as f:\n",
    "    valid_streets = f.read().split('\\n')[:-1]"
   ]
  },
  {
   "cell_type": "code",
   "execution_count": 16,
   "metadata": {
    "id": "OJ7Jg8pKLocB",
    "outputId": "9478328f-c2a8-4443-8ba7-4b8a3a2ad23f"
   },
   "outputs": [
    {
     "data": {
      "text/html": [
       "<div>\n",
       "<style scoped>\n",
       "    .dataframe tbody tr th:only-of-type {\n",
       "        vertical-align: middle;\n",
       "    }\n",
       "\n",
       "    .dataframe tbody tr th {\n",
       "        vertical-align: top;\n",
       "    }\n",
       "\n",
       "    .dataframe thead th {\n",
       "        text-align: right;\n",
       "    }\n",
       "</style>\n",
       "<table border=\"1\" class=\"dataframe\">\n",
       "  <thead>\n",
       "    <tr style=\"text-align: right;\">\n",
       "      <th></th>\n",
       "      <th>CRASH DATE</th>\n",
       "      <th>ON STREET NAME</th>\n",
       "    </tr>\n",
       "  </thead>\n",
       "  <tbody>\n",
       "    <tr>\n",
       "      <th>0</th>\n",
       "      <td>2020-07-03</td>\n",
       "      <td>LONG ISLAND EXPRESSWAY</td>\n",
       "    </tr>\n",
       "    <tr>\n",
       "      <th>1</th>\n",
       "      <td>2020-04-27</td>\n",
       "      <td>26 AVENUE</td>\n",
       "    </tr>\n",
       "    <tr>\n",
       "      <th>2</th>\n",
       "      <td>2020-07-01</td>\n",
       "      <td>UTICA AVENUE</td>\n",
       "    </tr>\n",
       "    <tr>\n",
       "      <th>3</th>\n",
       "      <td>2020-05-29</td>\n",
       "      <td>CROSS BRONX EXPY</td>\n",
       "    </tr>\n",
       "    <tr>\n",
       "      <th>4</th>\n",
       "      <td>2020-06-16</td>\n",
       "      <td>HART STREET</td>\n",
       "    </tr>\n",
       "    <tr>\n",
       "      <th>...</th>\n",
       "      <td>...</td>\n",
       "      <td>...</td>\n",
       "    </tr>\n",
       "    <tr>\n",
       "      <th>1281940</th>\n",
       "      <td>2012-07-14</td>\n",
       "      <td>16 STREET</td>\n",
       "    </tr>\n",
       "    <tr>\n",
       "      <th>1281941</th>\n",
       "      <td>2012-07-02</td>\n",
       "      <td>EAST 115 STREET</td>\n",
       "    </tr>\n",
       "    <tr>\n",
       "      <th>1281942</th>\n",
       "      <td>2012-07-03</td>\n",
       "      <td>AVENUE J</td>\n",
       "    </tr>\n",
       "    <tr>\n",
       "      <th>1281943</th>\n",
       "      <td>2012-07-11</td>\n",
       "      <td>EAST FORDHAM ROAD</td>\n",
       "    </tr>\n",
       "    <tr>\n",
       "      <th>1281944</th>\n",
       "      <td>2012-07-05</td>\n",
       "      <td>SPRINGFIELD BOULEVARD</td>\n",
       "    </tr>\n",
       "  </tbody>\n",
       "</table>\n",
       "<p>1281945 rows × 2 columns</p>\n",
       "</div>"
      ],
      "text/plain": [
       "        CRASH DATE                    ON STREET NAME\n",
       "0       2020-07-03  LONG ISLAND EXPRESSWAY          \n",
       "1       2020-04-27  26 AVENUE                       \n",
       "2       2020-07-01  UTICA AVENUE                    \n",
       "3       2020-05-29  CROSS BRONX EXPY                \n",
       "4       2020-06-16  HART STREET                     \n",
       "...            ...                               ...\n",
       "1281940 2012-07-14  16 STREET                       \n",
       "1281941 2012-07-02  EAST 115 STREET                 \n",
       "1281942 2012-07-03  AVENUE J                        \n",
       "1281943 2012-07-11  EAST FORDHAM ROAD               \n",
       "1281944 2012-07-05  SPRINGFIELD BOULEVARD           \n",
       "\n",
       "[1281945 rows x 2 columns]"
      ]
     },
     "execution_count": 16,
     "metadata": {},
     "output_type": "execute_result"
    }
   ],
   "source": [
    "df_good = df[df['ON STREET NAME'].isin(valid_streets)]\n",
    "df_good = df_good[['CRASH DATE', 'ON STREET NAME']]\n",
    "df_good['CRASH DATE'] = pd.to_datetime(df_good['CRASH DATE'])\n",
    "df_good.reset_index(drop=True, inplace=True)\n",
    "df_good"
   ]
  },
  {
   "cell_type": "code",
   "execution_count": 17,
   "metadata": {
    "colab": {
     "base_uri": "https://localhost:8080/"
    },
    "id": "GNEn-ZV3LocB",
    "outputId": "98a47361-4df2-426d-982b-294e32bfe9cd"
   },
   "outputs": [
    {
     "data": {
      "text/plain": [
       "3090"
      ]
     },
     "execution_count": 17,
     "metadata": {},
     "output_type": "execute_result"
    }
   ],
   "source": [
    "uniq_dates = sorted(set(df_good['CRASH DATE']))\n",
    "date_to_id = {date: idd for idd, date in enumerate(uniq_dates)}\n",
    "id_to_date = {idd: date for date, idd in date_to_id.items()}\n",
    "len(id_to_date)"
   ]
  },
  {
   "cell_type": "code",
   "execution_count": 18,
   "metadata": {
    "colab": {
     "base_uri": "https://localhost:8080/"
    },
    "id": "XrATQxSrLocC",
    "outputId": "fb9afde8-29d9-4106-8d8e-6cf6022d0ea6"
   },
   "outputs": [
    {
     "data": {
      "text/plain": [
       "1884"
      ]
     },
     "execution_count": 18,
     "metadata": {},
     "output_type": "execute_result"
    }
   ],
   "source": [
    "street_to_id = {street: idd for idd, street in enumerate(valid_streets)}\n",
    "id_to_street = {idd: street for street, idd in street_to_id.items()}\n",
    "len(id_to_street)"
   ]
  },
  {
   "cell_type": "code",
   "execution_count": 20,
   "metadata": {
    "colab": {
     "base_uri": "https://localhost:8080/"
    },
    "id": "wY2cLDFLLocC",
    "outputId": "afac183a-0121-4827-e8c6-f685e21e8dc3"
   },
   "outputs": [
    {
     "data": {
      "text/plain": [
       "(1884, 3090)"
      ]
     },
     "execution_count": 20,
     "metadata": {},
     "output_type": "execute_result"
    }
   ],
   "source": [
    "X = np.zeros((len(id_to_street), len(id_to_date)), dtype=np.uint32)\n",
    "X.shape"
   ]
  },
  {
   "cell_type": "code",
   "execution_count": 21,
   "metadata": {
    "colab": {
     "base_uri": "https://localhost:8080/",
     "height": 66,
     "referenced_widgets": [
      "55dd49ab314443088bc0403229f15cee",
      "bbefc1ae64da4428a90288d12bb7f799",
      "867b23c205864822a5496d7f41da277e",
      "faa856f1873b4aa9b1ba6fb60786e988",
      "4043162ec0454b4aa910120f3ebff71f",
      "60243a572046424884313401e67613c2",
      "4b0a2b86144b4dadbb12623f1c4d042e",
      "ad8df5d516104f78b2071078fcbd2597"
     ]
    },
    "id": "OO7Mdm1VLocC",
    "outputId": "3ff47094-ffda-4cbc-9865-84d027d606c8"
   },
   "outputs": [
    {
     "data": {
      "application/vnd.jupyter.widget-view+json": {
       "model_id": "311d3b79e31e4d89aa93f756128f4ba7",
       "version_major": 2,
       "version_minor": 0
      },
      "text/plain": [
       "HBox(children=(FloatProgress(value=0.0, max=1281945.0), HTML(value='')))"
      ]
     },
     "metadata": {},
     "output_type": "display_data"
    },
    {
     "name": "stdout",
     "output_type": "stream",
     "text": [
      "\n"
     ]
    }
   ],
   "source": [
    "for row in tqdm(df_good.iterrows(), total=len(df_good)):\n",
    "    info = row[1]\n",
    "    date = info['CRASH DATE']\n",
    "    street = info['ON STREET NAME']\n",
    "    \n",
    "    date_id = date_to_id[date]\n",
    "    street_id = street_to_id[street]\n",
    "    \n",
    "    X[street_id, date_id] += 1"
   ]
  },
  {
   "cell_type": "code",
   "execution_count": 30,
   "metadata": {
    "scrolled": true
   },
   "outputs": [
    {
     "data": {
      "text/plain": [
       "(99, 3069)"
      ]
     },
     "execution_count": 30,
     "metadata": {},
     "output_type": "execute_result"
    }
   ],
   "source": [
    "# divide on batches of 31 days\n",
    "\n",
    "num_batches = X.shape[1] // 31\n",
    "days_covered = int(num_batches * 31)\n",
    "num_batches, days_covered"
   ]
  },
  {
   "cell_type": "code",
   "execution_count": 31,
   "metadata": {
    "colab": {
     "base_uri": "https://localhost:8080/"
    },
    "id": "R0j7GfG-LocD",
    "outputId": "60ee45c5-21d9-41dd-8cf1-11b37ff390b4"
   },
   "outputs": [
    {
     "data": {
      "text/plain": [
       "(1884, 3069)"
      ]
     },
     "execution_count": 31,
     "metadata": {},
     "output_type": "execute_result"
    }
   ],
   "source": [
    "X_cut = X[:, -3069:]\n",
    "X_cut.shape"
   ]
  },
  {
   "cell_type": "code",
   "execution_count": 32,
   "metadata": {
    "colab": {
     "base_uri": "https://localhost:8080/"
    },
    "id": "93rKxpazLocD",
    "outputId": "5abde6e4-a5f6-4b29-c597-e14c4c452bfe"
   },
   "outputs": [
    {
     "data": {
      "text/plain": [
       "(1884, 31, 99)"
      ]
     },
     "execution_count": 32,
     "metadata": {},
     "output_type": "execute_result"
    }
   ],
   "source": [
    "# reshape for training\n",
    "\n",
    "X_cut = X_cut.reshape((1884, 31, -1))\n",
    "X_cut.shape"
   ]
  },
  {
   "cell_type": "markdown",
   "metadata": {},
   "source": [
    "## Train model"
   ]
  },
  {
   "cell_type": "code",
   "execution_count": 36,
   "metadata": {
    "id": "3enrw73wLocE"
   },
   "outputs": [
    {
     "data": {
      "application/vnd.jupyter.widget-view+json": {
       "model_id": "a521fa36305845bf9829a638cd3868bc",
       "version_major": 2,
       "version_minor": 0
      },
      "text/plain": [
       "HBox(children=(FloatProgress(value=0.0, max=99.0), HTML(value='')))"
      ]
     },
     "metadata": {},
     "output_type": "display_data"
    },
    {
     "name": "stdout",
     "output_type": "stream",
     "text": [
      "\n"
     ]
    }
   ],
   "source": [
    "model = CatBoostRegressor(iterations=1500, depth=10, verbose=False)\n",
    "\n",
    "for i in tqdm(range(num_batches)):\n",
    "    data = X_cut[...,i] # get batch\n",
    "    X_train = data[:, :-1] # take 30 days for training\n",
    "    y_train = data[:, -1] # take 31th day as labels\n",
    "    \n",
    "    model.fit(X_train, y_train)\n"
   ]
  },
  {
   "cell_type": "code",
   "execution_count": 43,
   "metadata": {
    "id": "7g_me7RlQ3Ec"
   },
   "outputs": [],
   "source": [
    "model.save_model(\"catboost_predictor.dump\")"
   ]
  },
  {
   "cell_type": "markdown",
   "metadata": {},
   "source": [
    "## Load model and make predictions"
   ]
  },
  {
   "cell_type": "code",
   "execution_count": 38,
   "metadata": {
    "id": "xf5I4YlqRL_b"
   },
   "outputs": [
    {
     "data": {
      "text/plain": [
       "<catboost.core.CatBoostRegressor at 0x11c2fc550>"
      ]
     },
     "execution_count": 38,
     "metadata": {},
     "output_type": "execute_result"
    }
   ],
   "source": [
    "model = CatBoostRegressor()\n",
    "model.load_model(\"catboost_predictor.dump\")"
   ]
  },
  {
   "cell_type": "code",
   "execution_count": 50,
   "metadata": {},
   "outputs": [],
   "source": [
    "last_batch = X_cut[...,-1]\n",
    "X_last, y_last = last_batch[:, :-1], last_batch[:, -1]\n",
    "\n",
    "y_pred = model.predict(X_last)"
   ]
  },
  {
   "cell_type": "code",
   "execution_count": 51,
   "metadata": {},
   "outputs": [
    {
     "data": {
      "text/plain": [
       "0.02907166180475805"
      ]
     },
     "execution_count": 51,
     "metadata": {},
     "output_type": "execute_result"
    }
   ],
   "source": [
    "#calc MAE\n",
    "\n",
    "from sklearn.metrics import mean_absolute_error as mae\n",
    "\n",
    "mae(y_last, y_pred)"
   ]
  },
  {
   "cell_type": "code",
   "execution_count": 49,
   "metadata": {},
   "outputs": [
    {
     "data": {
      "text/plain": [
       "['BELT PARKWAY                    ',\n",
       " 'MAJOR DEEGAN EXPRESSWAY         ',\n",
       " 'BROOKLYN QUEENS EXPRESSWAY      ',\n",
       " 'VAN WYCK EXPWY                  ',\n",
       " 'LONG ISLAND EXPRESSWAY          ',\n",
       " 'NORTH CONDUIT AVENUE            ',\n",
       " 'ATLANTIC AVENUE                 ',\n",
       " 'FDR DRIVE                       ',\n",
       " 'WHITESTONE EXPRESSWAY           ',\n",
       " 'BROADWAY                        ']"
      ]
     },
     "execution_count": 49,
     "metadata": {},
     "output_type": "execute_result"
    }
   ],
   "source": [
    "top_10_strets_inds = np.argsort(y_pred)[::-1][:10]\n",
    "top_10_streets = [id_to_street[ind] for ind in top_10_strets_inds]\n",
    "top_10_streets"
   ]
  },
  {
   "cell_type": "code",
   "execution_count": null,
   "metadata": {},
   "outputs": [],
   "source": []
  }
 ],
 "metadata": {
  "accelerator": "GPU",
  "colab": {
   "name": "Prediction.ipynb",
   "provenance": []
  },
  "kernelspec": {
   "display_name": "Python 3",
   "language": "python",
   "name": "python3"
  },
  "language_info": {
   "codemirror_mode": {
    "name": "ipython",
    "version": 3
   },
   "file_extension": ".py",
   "mimetype": "text/x-python",
   "name": "python",
   "nbconvert_exporter": "python",
   "pygments_lexer": "ipython3",
   "version": "3.6.8"
  },
  "widgets": {
   "application/vnd.jupyter.widget-state+json": {
    "4043162ec0454b4aa910120f3ebff71f": {
     "model_module": "@jupyter-widgets/controls",
     "model_name": "ProgressStyleModel",
     "state": {
      "_model_module": "@jupyter-widgets/controls",
      "_model_module_version": "1.5.0",
      "_model_name": "ProgressStyleModel",
      "_view_count": null,
      "_view_module": "@jupyter-widgets/base",
      "_view_module_version": "1.2.0",
      "_view_name": "StyleView",
      "bar_color": null,
      "description_width": "initial"
     }
    },
    "4b0a2b86144b4dadbb12623f1c4d042e": {
     "model_module": "@jupyter-widgets/controls",
     "model_name": "DescriptionStyleModel",
     "state": {
      "_model_module": "@jupyter-widgets/controls",
      "_model_module_version": "1.5.0",
      "_model_name": "DescriptionStyleModel",
      "_view_count": null,
      "_view_module": "@jupyter-widgets/base",
      "_view_module_version": "1.2.0",
      "_view_name": "StyleView",
      "description_width": ""
     }
    },
    "55dd49ab314443088bc0403229f15cee": {
     "model_module": "@jupyter-widgets/controls",
     "model_name": "HBoxModel",
     "state": {
      "_dom_classes": [],
      "_model_module": "@jupyter-widgets/controls",
      "_model_module_version": "1.5.0",
      "_model_name": "HBoxModel",
      "_view_count": null,
      "_view_module": "@jupyter-widgets/controls",
      "_view_module_version": "1.5.0",
      "_view_name": "HBoxView",
      "box_style": "",
      "children": [
       "IPY_MODEL_867b23c205864822a5496d7f41da277e",
       "IPY_MODEL_faa856f1873b4aa9b1ba6fb60786e988"
      ],
      "layout": "IPY_MODEL_bbefc1ae64da4428a90288d12bb7f799"
     }
    },
    "60243a572046424884313401e67613c2": {
     "model_module": "@jupyter-widgets/base",
     "model_name": "LayoutModel",
     "state": {
      "_model_module": "@jupyter-widgets/base",
      "_model_module_version": "1.2.0",
      "_model_name": "LayoutModel",
      "_view_count": null,
      "_view_module": "@jupyter-widgets/base",
      "_view_module_version": "1.2.0",
      "_view_name": "LayoutView",
      "align_content": null,
      "align_items": null,
      "align_self": null,
      "border": null,
      "bottom": null,
      "display": null,
      "flex": null,
      "flex_flow": null,
      "grid_area": null,
      "grid_auto_columns": null,
      "grid_auto_flow": null,
      "grid_auto_rows": null,
      "grid_column": null,
      "grid_gap": null,
      "grid_row": null,
      "grid_template_areas": null,
      "grid_template_columns": null,
      "grid_template_rows": null,
      "height": null,
      "justify_content": null,
      "justify_items": null,
      "left": null,
      "margin": null,
      "max_height": null,
      "max_width": null,
      "min_height": null,
      "min_width": null,
      "object_fit": null,
      "object_position": null,
      "order": null,
      "overflow": null,
      "overflow_x": null,
      "overflow_y": null,
      "padding": null,
      "right": null,
      "top": null,
      "visibility": null,
      "width": null
     }
    },
    "867b23c205864822a5496d7f41da277e": {
     "model_module": "@jupyter-widgets/controls",
     "model_name": "FloatProgressModel",
     "state": {
      "_dom_classes": [],
      "_model_module": "@jupyter-widgets/controls",
      "_model_module_version": "1.5.0",
      "_model_name": "FloatProgressModel",
      "_view_count": null,
      "_view_module": "@jupyter-widgets/controls",
      "_view_module_version": "1.5.0",
      "_view_name": "ProgressView",
      "bar_style": "success",
      "description": "100%",
      "description_tooltip": null,
      "layout": "IPY_MODEL_60243a572046424884313401e67613c2",
      "max": 1280561,
      "min": 0,
      "orientation": "horizontal",
      "style": "IPY_MODEL_4043162ec0454b4aa910120f3ebff71f",
      "value": 1280561
     }
    },
    "ad8df5d516104f78b2071078fcbd2597": {
     "model_module": "@jupyter-widgets/base",
     "model_name": "LayoutModel",
     "state": {
      "_model_module": "@jupyter-widgets/base",
      "_model_module_version": "1.2.0",
      "_model_name": "LayoutModel",
      "_view_count": null,
      "_view_module": "@jupyter-widgets/base",
      "_view_module_version": "1.2.0",
      "_view_name": "LayoutView",
      "align_content": null,
      "align_items": null,
      "align_self": null,
      "border": null,
      "bottom": null,
      "display": null,
      "flex": null,
      "flex_flow": null,
      "grid_area": null,
      "grid_auto_columns": null,
      "grid_auto_flow": null,
      "grid_auto_rows": null,
      "grid_column": null,
      "grid_gap": null,
      "grid_row": null,
      "grid_template_areas": null,
      "grid_template_columns": null,
      "grid_template_rows": null,
      "height": null,
      "justify_content": null,
      "justify_items": null,
      "left": null,
      "margin": null,
      "max_height": null,
      "max_width": null,
      "min_height": null,
      "min_width": null,
      "object_fit": null,
      "object_position": null,
      "order": null,
      "overflow": null,
      "overflow_x": null,
      "overflow_y": null,
      "padding": null,
      "right": null,
      "top": null,
      "visibility": null,
      "width": null
     }
    },
    "bbefc1ae64da4428a90288d12bb7f799": {
     "model_module": "@jupyter-widgets/base",
     "model_name": "LayoutModel",
     "state": {
      "_model_module": "@jupyter-widgets/base",
      "_model_module_version": "1.2.0",
      "_model_name": "LayoutModel",
      "_view_count": null,
      "_view_module": "@jupyter-widgets/base",
      "_view_module_version": "1.2.0",
      "_view_name": "LayoutView",
      "align_content": null,
      "align_items": null,
      "align_self": null,
      "border": null,
      "bottom": null,
      "display": null,
      "flex": null,
      "flex_flow": null,
      "grid_area": null,
      "grid_auto_columns": null,
      "grid_auto_flow": null,
      "grid_auto_rows": null,
      "grid_column": null,
      "grid_gap": null,
      "grid_row": null,
      "grid_template_areas": null,
      "grid_template_columns": null,
      "grid_template_rows": null,
      "height": null,
      "justify_content": null,
      "justify_items": null,
      "left": null,
      "margin": null,
      "max_height": null,
      "max_width": null,
      "min_height": null,
      "min_width": null,
      "object_fit": null,
      "object_position": null,
      "order": null,
      "overflow": null,
      "overflow_x": null,
      "overflow_y": null,
      "padding": null,
      "right": null,
      "top": null,
      "visibility": null,
      "width": null
     }
    },
    "faa856f1873b4aa9b1ba6fb60786e988": {
     "model_module": "@jupyter-widgets/controls",
     "model_name": "HTMLModel",
     "state": {
      "_dom_classes": [],
      "_model_module": "@jupyter-widgets/controls",
      "_model_module_version": "1.5.0",
      "_model_name": "HTMLModel",
      "_view_count": null,
      "_view_module": "@jupyter-widgets/controls",
      "_view_module_version": "1.5.0",
      "_view_name": "HTMLView",
      "description": "",
      "description_tooltip": null,
      "layout": "IPY_MODEL_ad8df5d516104f78b2071078fcbd2597",
      "placeholder": "​",
      "style": "IPY_MODEL_4b0a2b86144b4dadbb12623f1c4d042e",
      "value": " 1280561/1280561 [02:16&lt;00:00, 9371.99it/s]"
     }
    }
   }
  }
 },
 "nbformat": 4,
 "nbformat_minor": 4
}
