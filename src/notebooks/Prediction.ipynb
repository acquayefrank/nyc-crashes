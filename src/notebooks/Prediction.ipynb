{
 "cells": [
  {
   "cell_type": "code",
   "execution_count": 12,
   "metadata": {
    "id": "K3GlROi_Lob6"
   },
   "outputs": [],
   "source": [
    "import pandas as pd\n",
    "import requests\n",
    "from matplotlib import pyplot as plt\n",
    "import numpy as np\n",
    "import operator\n",
    "from collections import Counter\n",
    "from datetime import datetime\n",
    "from tqdm.notebook import tqdm\n",
    "import catboost\n",
    "from catboost import CatBoostRegressor"
   ]
  },
  {
   "cell_type": "markdown",
   "metadata": {},
   "source": [
    "## Prepare data"
   ]
  },
  {
   "cell_type": "code",
   "execution_count": 2,
   "metadata": {
    "colab": {
     "base_uri": "https://localhost:8080/",
     "height": 426
    },
    "id": "i3PGZ1I5Lob_",
    "outputId": "553e2a33-039c-4339-c554-8a49cdffd456"
   },
   "outputs": [
    {
     "name": "stdout",
     "output_type": "stream",
     "text": [
      "1389630\n"
     ]
    },
    {
     "data": {
      "text/html": [
       "<div>\n",
       "<style scoped>\n",
       "    .dataframe tbody tr th:only-of-type {\n",
       "        vertical-align: middle;\n",
       "    }\n",
       "\n",
       "    .dataframe tbody tr th {\n",
       "        vertical-align: top;\n",
       "    }\n",
       "\n",
       "    .dataframe thead th {\n",
       "        text-align: right;\n",
       "    }\n",
       "</style>\n",
       "<table border=\"1\" class=\"dataframe\">\n",
       "  <thead>\n",
       "    <tr style=\"text-align: right;\">\n",
       "      <th></th>\n",
       "      <th>CRASH DATE</th>\n",
       "      <th>CRASH TIME</th>\n",
       "      <th>BOROUGH</th>\n",
       "      <th>ZIP CODE</th>\n",
       "      <th>LATITUDE</th>\n",
       "      <th>LONGITUDE</th>\n",
       "      <th>LOCATION</th>\n",
       "      <th>ON STREET NAME</th>\n",
       "      <th>CROSS STREET NAME</th>\n",
       "      <th>OFF STREET NAME</th>\n",
       "      <th>...</th>\n",
       "      <th>CONTRIBUTING FACTOR VEHICLE 2</th>\n",
       "      <th>CONTRIBUTING FACTOR VEHICLE 3</th>\n",
       "      <th>CONTRIBUTING FACTOR VEHICLE 4</th>\n",
       "      <th>CONTRIBUTING FACTOR VEHICLE 5</th>\n",
       "      <th>COLLISION_ID</th>\n",
       "      <th>VEHICLE TYPE CODE 1</th>\n",
       "      <th>VEHICLE TYPE CODE 2</th>\n",
       "      <th>VEHICLE TYPE CODE 3</th>\n",
       "      <th>VEHICLE TYPE CODE 4</th>\n",
       "      <th>VEHICLE TYPE CODE 5</th>\n",
       "    </tr>\n",
       "  </thead>\n",
       "  <tbody>\n",
       "    <tr>\n",
       "      <th>0</th>\n",
       "      <td>12/07/2020</td>\n",
       "      <td>19:27</td>\n",
       "      <td>BRONX</td>\n",
       "      <td>10475</td>\n",
       "      <td>40.871470</td>\n",
       "      <td>-73.83057</td>\n",
       "      <td>(40.87147, -73.83057)</td>\n",
       "      <td>ALCOTT PLACE</td>\n",
       "      <td>ASCH LOOP</td>\n",
       "      <td>NaN</td>\n",
       "      <td>...</td>\n",
       "      <td>NaN</td>\n",
       "      <td>NaN</td>\n",
       "      <td>NaN</td>\n",
       "      <td>NaN</td>\n",
       "      <td>4374449</td>\n",
       "      <td>Sedan</td>\n",
       "      <td>NaN</td>\n",
       "      <td>NaN</td>\n",
       "      <td>NaN</td>\n",
       "      <td>NaN</td>\n",
       "    </tr>\n",
       "    <tr>\n",
       "      <th>1</th>\n",
       "      <td>12/07/2020</td>\n",
       "      <td>6:00</td>\n",
       "      <td>QUEENS</td>\n",
       "      <td>11372</td>\n",
       "      <td>40.755264</td>\n",
       "      <td>-73.88817</td>\n",
       "      <td>(40.755264, -73.88817)</td>\n",
       "      <td>NORTHERN BOULEVARD</td>\n",
       "      <td>79 STREET</td>\n",
       "      <td>NaN</td>\n",
       "      <td>...</td>\n",
       "      <td>NaN</td>\n",
       "      <td>NaN</td>\n",
       "      <td>NaN</td>\n",
       "      <td>NaN</td>\n",
       "      <td>4374434</td>\n",
       "      <td>Taxi</td>\n",
       "      <td>NaN</td>\n",
       "      <td>NaN</td>\n",
       "      <td>NaN</td>\n",
       "      <td>NaN</td>\n",
       "    </tr>\n",
       "    <tr>\n",
       "      <th>2</th>\n",
       "      <td>12/06/2020</td>\n",
       "      <td>14:25</td>\n",
       "      <td>NaN</td>\n",
       "      <td>NaN</td>\n",
       "      <td>NaN</td>\n",
       "      <td>NaN</td>\n",
       "      <td>NaN</td>\n",
       "      <td>VERRAZANO BRIDGE</td>\n",
       "      <td>NaN</td>\n",
       "      <td>NaN</td>\n",
       "      <td>...</td>\n",
       "      <td>Unspecified</td>\n",
       "      <td>NaN</td>\n",
       "      <td>NaN</td>\n",
       "      <td>NaN</td>\n",
       "      <td>4374156</td>\n",
       "      <td>Sedan</td>\n",
       "      <td>Sedan</td>\n",
       "      <td>NaN</td>\n",
       "      <td>NaN</td>\n",
       "      <td>NaN</td>\n",
       "    </tr>\n",
       "  </tbody>\n",
       "</table>\n",
       "<p>3 rows × 29 columns</p>\n",
       "</div>"
      ],
      "text/plain": [
       "   CRASH DATE CRASH TIME BOROUGH ZIP CODE   LATITUDE  LONGITUDE  \\\n",
       "0  12/07/2020      19:27   BRONX    10475  40.871470  -73.83057   \n",
       "1  12/07/2020       6:00  QUEENS    11372  40.755264  -73.88817   \n",
       "2  12/06/2020      14:25     NaN      NaN        NaN        NaN   \n",
       "\n",
       "                 LOCATION                    ON STREET NAME CROSS STREET NAME  \\\n",
       "0   (40.87147, -73.83057)  ALCOTT PLACE                             ASCH LOOP   \n",
       "1  (40.755264, -73.88817)  NORTHERN BOULEVARD                       79 STREET   \n",
       "2                     NaN  VERRAZANO BRIDGE                               NaN   \n",
       "\n",
       "  OFF STREET NAME  ...  CONTRIBUTING FACTOR VEHICLE 2  \\\n",
       "0             NaN  ...                            NaN   \n",
       "1             NaN  ...                            NaN   \n",
       "2             NaN  ...                    Unspecified   \n",
       "\n",
       "   CONTRIBUTING FACTOR VEHICLE 3  CONTRIBUTING FACTOR VEHICLE 4  \\\n",
       "0                            NaN                            NaN   \n",
       "1                            NaN                            NaN   \n",
       "2                            NaN                            NaN   \n",
       "\n",
       "   CONTRIBUTING FACTOR VEHICLE 5  COLLISION_ID  VEHICLE TYPE CODE 1  \\\n",
       "0                            NaN       4374449                Sedan   \n",
       "1                            NaN       4374434                 Taxi   \n",
       "2                            NaN       4374156                Sedan   \n",
       "\n",
       "   VEHICLE TYPE CODE 2  VEHICLE TYPE CODE 3 VEHICLE TYPE CODE 4  \\\n",
       "0                  NaN                  NaN                 NaN   \n",
       "1                  NaN                  NaN                 NaN   \n",
       "2                Sedan                  NaN                 NaN   \n",
       "\n",
       "  VEHICLE TYPE CODE 5  \n",
       "0                 NaN  \n",
       "1                 NaN  \n",
       "2                 NaN  \n",
       "\n",
       "[3 rows x 29 columns]"
      ]
     },
     "execution_count": 2,
     "metadata": {},
     "output_type": "execute_result"
    }
   ],
   "source": [
    "df = pd.read_csv('../data/Motor_Vehicle_Collisions_-_Crashes.csv', low_memory=False)\n",
    "df = df.dropna(subset=['ON STREET NAME'])\n",
    "print(len(df))\n",
    "df.head(3)"
   ]
  },
  {
   "cell_type": "code",
   "execution_count": 3,
   "metadata": {
    "id": "omHcGKuYLocA",
    "outputId": "ab1f7493-2966-47d0-f0c5-fd8881105620"
   },
   "outputs": [
    {
     "data": {
      "text/plain": [
       "3083"
      ]
     },
     "execution_count": 3,
     "metadata": {},
     "output_type": "execute_result"
    }
   ],
   "source": [
    "df['CRASH DATE'].nunique()"
   ]
  },
  {
   "cell_type": "code",
   "execution_count": 4,
   "metadata": {
    "id": "_LxypkR0LocB",
    "outputId": "b6f87975-37fd-4c6c-a314-3edd0786cb0d"
   },
   "outputs": [
    {
     "name": "stdout",
     "output_type": "stream",
     "text": [
      "12031\n"
     ]
    },
    {
     "data": {
      "text/plain": [
       "1884"
      ]
     },
     "execution_count": 4,
     "metadata": {},
     "output_type": "execute_result"
    }
   ],
   "source": [
    "distrib = Counter(df['ON STREET NAME'])\n",
    "print(len(distrib))\n",
    "threshold = 100\n",
    "\n",
    "valid_streets = set()\n",
    "\n",
    "for street_name, num_crashes in distrib.items():\n",
    "    if num_crashes > threshold:\n",
    "        valid_streets.add(street_name)\n",
    "len(valid_streets)"
   ]
  },
  {
   "cell_type": "code",
   "execution_count": 5,
   "metadata": {
    "id": "OJ7Jg8pKLocB",
    "outputId": "9478328f-c2a8-4443-8ba7-4b8a3a2ad23f"
   },
   "outputs": [
    {
     "data": {
      "text/html": [
       "<div>\n",
       "<style scoped>\n",
       "    .dataframe tbody tr th:only-of-type {\n",
       "        vertical-align: middle;\n",
       "    }\n",
       "\n",
       "    .dataframe tbody tr th {\n",
       "        vertical-align: top;\n",
       "    }\n",
       "\n",
       "    .dataframe thead th {\n",
       "        text-align: right;\n",
       "    }\n",
       "</style>\n",
       "<table border=\"1\" class=\"dataframe\">\n",
       "  <thead>\n",
       "    <tr style=\"text-align: right;\">\n",
       "      <th></th>\n",
       "      <th>CRASH DATE</th>\n",
       "      <th>ON STREET NAME</th>\n",
       "    </tr>\n",
       "  </thead>\n",
       "  <tbody>\n",
       "    <tr>\n",
       "      <th>0</th>\n",
       "      <td>2020-12-07</td>\n",
       "      <td>NORTHERN BOULEVARD</td>\n",
       "    </tr>\n",
       "    <tr>\n",
       "      <th>1</th>\n",
       "      <td>2020-12-06</td>\n",
       "      <td>VERRAZANO BRIDGE</td>\n",
       "    </tr>\n",
       "    <tr>\n",
       "      <th>2</th>\n",
       "      <td>2020-12-06</td>\n",
       "      <td>BROOKLYN BRIDGE</td>\n",
       "    </tr>\n",
       "    <tr>\n",
       "      <th>3</th>\n",
       "      <td>2020-12-06</td>\n",
       "      <td>BELT PARKWAY</td>\n",
       "    </tr>\n",
       "    <tr>\n",
       "      <th>4</th>\n",
       "      <td>2020-12-05</td>\n",
       "      <td>BELT PARKWAY</td>\n",
       "    </tr>\n",
       "    <tr>\n",
       "      <th>...</th>\n",
       "      <td>...</td>\n",
       "      <td>...</td>\n",
       "    </tr>\n",
       "    <tr>\n",
       "      <th>1280556</th>\n",
       "      <td>2012-07-10</td>\n",
       "      <td>TILLARY STREET</td>\n",
       "    </tr>\n",
       "    <tr>\n",
       "      <th>1280557</th>\n",
       "      <td>2012-07-09</td>\n",
       "      <td>FLATBUSH AVENUE</td>\n",
       "    </tr>\n",
       "    <tr>\n",
       "      <th>1280558</th>\n",
       "      <td>2012-07-06</td>\n",
       "      <td>7 AVENUE</td>\n",
       "    </tr>\n",
       "    <tr>\n",
       "      <th>1280559</th>\n",
       "      <td>2012-07-11</td>\n",
       "      <td>KINGS HIGHWAY</td>\n",
       "    </tr>\n",
       "    <tr>\n",
       "      <th>1280560</th>\n",
       "      <td>2012-07-07</td>\n",
       "      <td>60 STREET</td>\n",
       "    </tr>\n",
       "  </tbody>\n",
       "</table>\n",
       "<p>1280561 rows × 2 columns</p>\n",
       "</div>"
      ],
      "text/plain": [
       "        CRASH DATE                    ON STREET NAME\n",
       "0       2020-12-07  NORTHERN BOULEVARD              \n",
       "1       2020-12-06  VERRAZANO BRIDGE                \n",
       "2       2020-12-06  BROOKLYN BRIDGE                 \n",
       "3       2020-12-06  BELT PARKWAY                    \n",
       "4       2020-12-05  BELT PARKWAY                    \n",
       "...            ...                               ...\n",
       "1280556 2012-07-10  TILLARY STREET                  \n",
       "1280557 2012-07-09  FLATBUSH AVENUE                 \n",
       "1280558 2012-07-06  7 AVENUE                        \n",
       "1280559 2012-07-11  KINGS HIGHWAY                   \n",
       "1280560 2012-07-07  60 STREET                       \n",
       "\n",
       "[1280561 rows x 2 columns]"
      ]
     },
     "execution_count": 5,
     "metadata": {},
     "output_type": "execute_result"
    }
   ],
   "source": [
    "df_good = df[df['ON STREET NAME'].isin(valid_streets)]\n",
    "df_good = df_good[['CRASH DATE', 'ON STREET NAME']]\n",
    "df_good['CRASH DATE'] = pd.to_datetime(df_good['CRASH DATE'])\n",
    "df_good.reset_index(drop=True, inplace=True)\n",
    "df_good"
   ]
  },
  {
   "cell_type": "code",
   "execution_count": 4,
   "metadata": {
    "id": "AN0lJqkdNZCy"
   },
   "outputs": [],
   "source": [
    "df_good = pd.read_csv('for_predictions.csv')"
   ]
  },
  {
   "cell_type": "code",
   "execution_count": 6,
   "metadata": {
    "colab": {
     "base_uri": "https://localhost:8080/"
    },
    "id": "GNEn-ZV3LocB",
    "outputId": "98a47361-4df2-426d-982b-294e32bfe9cd"
   },
   "outputs": [
    {
     "data": {
      "text/plain": [
       "3083"
      ]
     },
     "execution_count": 6,
     "metadata": {},
     "output_type": "execute_result"
    }
   ],
   "source": [
    "uniq_dates = sorted(set(df_good['CRASH DATE']))\n",
    "date_to_id = {date: idd for idd, date in enumerate(uniq_dates)}\n",
    "id_to_date = {idd: date for date, idd in date_to_id.items()}\n",
    "len(id_to_date)"
   ]
  },
  {
   "cell_type": "code",
   "execution_count": 7,
   "metadata": {
    "colab": {
     "base_uri": "https://localhost:8080/"
    },
    "id": "XrATQxSrLocC",
    "outputId": "fb9afde8-29d9-4106-8d8e-6cf6022d0ea6"
   },
   "outputs": [
    {
     "data": {
      "text/plain": [
       "1884"
      ]
     },
     "execution_count": 7,
     "metadata": {},
     "output_type": "execute_result"
    }
   ],
   "source": [
    "street_distrib = dict(Counter(df_good['ON STREET NAME']))\n",
    "street_distrib = sorted(street_distrib.items(), key=operator.itemgetter(1), reverse=True)\n",
    "\n",
    "street_to_id = {street[0]: idd for idd, street in enumerate(street_distrib)}\n",
    "id_to_street = {idd: street for street, idd in street_to_id.items()}\n",
    "len(id_to_street)"
   ]
  },
  {
   "cell_type": "code",
   "execution_count": 8,
   "metadata": {
    "colab": {
     "base_uri": "https://localhost:8080/"
    },
    "id": "wY2cLDFLLocC",
    "outputId": "afac183a-0121-4827-e8c6-f685e21e8dc3"
   },
   "outputs": [
    {
     "data": {
      "text/plain": [
       "(1884, 3083)"
      ]
     },
     "execution_count": 8,
     "metadata": {},
     "output_type": "execute_result"
    }
   ],
   "source": [
    "X = np.zeros((len(id_to_street), len(id_to_date)), dtype=np.uint32)\n",
    "X.shape"
   ]
  },
  {
   "cell_type": "code",
   "execution_count": 16,
   "metadata": {
    "colab": {
     "base_uri": "https://localhost:8080/",
     "height": 66,
     "referenced_widgets": [
      "55dd49ab314443088bc0403229f15cee",
      "bbefc1ae64da4428a90288d12bb7f799",
      "867b23c205864822a5496d7f41da277e",
      "faa856f1873b4aa9b1ba6fb60786e988",
      "4043162ec0454b4aa910120f3ebff71f",
      "60243a572046424884313401e67613c2",
      "4b0a2b86144b4dadbb12623f1c4d042e",
      "ad8df5d516104f78b2071078fcbd2597"
     ]
    },
    "id": "OO7Mdm1VLocC",
    "outputId": "3ff47094-ffda-4cbc-9865-84d027d606c8"
   },
   "outputs": [
    {
     "data": {
      "application/vnd.jupyter.widget-view+json": {
       "model_id": "4ae0ff8227b14a42b93119ebe67416da",
       "version_major": 2,
       "version_minor": 0
      },
      "text/plain": [
       "HBox(children=(FloatProgress(value=0.0, max=1280561.0), HTML(value='')))"
      ]
     },
     "metadata": {},
     "output_type": "display_data"
    },
    {
     "name": "stdout",
     "output_type": "stream",
     "text": [
      "\n"
     ]
    }
   ],
   "source": [
    "for row in tqdm(df_good.iterrows(), total=len(df_good)):\n",
    "    info = row[1]\n",
    "    date = info['CRASH DATE']\n",
    "    street = info['ON STREET NAME']\n",
    "    \n",
    "    date_id = date_to_id[date]\n",
    "    street_id = street_to_id[street]\n",
    "    \n",
    "    X[street_id, date_id] += 1"
   ]
  },
  {
   "cell_type": "code",
   "execution_count": 17,
   "metadata": {
    "scrolled": true
   },
   "outputs": [
    {
     "data": {
      "text/plain": [
       "99.45161290322581"
      ]
     },
     "execution_count": 17,
     "metadata": {},
     "output_type": "execute_result"
    }
   ],
   "source": [
    "3083 / 31"
   ]
  },
  {
   "cell_type": "code",
   "execution_count": 18,
   "metadata": {
    "id": "-94X1PgoLocD",
    "outputId": "e0b198d7-8774-4b06-c269-851febf858e1"
   },
   "outputs": [
    {
     "data": {
      "text/plain": [
       "3069"
      ]
     },
     "execution_count": 18,
     "metadata": {},
     "output_type": "execute_result"
    }
   ],
   "source": [
    "31*99"
   ]
  },
  {
   "cell_type": "code",
   "execution_count": 19,
   "metadata": {
    "colab": {
     "base_uri": "https://localhost:8080/"
    },
    "id": "R0j7GfG-LocD",
    "outputId": "60ee45c5-21d9-41dd-8cf1-11b37ff390b4"
   },
   "outputs": [
    {
     "data": {
      "text/plain": [
       "(1884, 3069)"
      ]
     },
     "execution_count": 19,
     "metadata": {},
     "output_type": "execute_result"
    }
   ],
   "source": [
    "# divide on batches of 31 days\n",
    "\n",
    "X_r = X[:, -3069:]\n",
    "X_r.shape"
   ]
  },
  {
   "cell_type": "code",
   "execution_count": 20,
   "metadata": {
    "colab": {
     "base_uri": "https://localhost:8080/"
    },
    "id": "93rKxpazLocD",
    "outputId": "5abde6e4-a5f6-4b29-c597-e14c4c452bfe"
   },
   "outputs": [
    {
     "data": {
      "text/plain": [
       "(1884, 31, 99)"
      ]
     },
     "execution_count": 20,
     "metadata": {},
     "output_type": "execute_result"
    }
   ],
   "source": [
    "X_r = X_r.reshape((1884, 31, -1))\n",
    "X_r.shape"
   ]
  },
  {
   "cell_type": "markdown",
   "metadata": {},
   "source": [
    "## Train model"
   ]
  },
  {
   "cell_type": "code",
   "execution_count": null,
   "metadata": {
    "id": "3enrw73wLocE"
   },
   "outputs": [],
   "source": [
    "model = CatBoostRegressor(iterations=1500, depth=10, metric_period=500)\n",
    "\n",
    "for i in tqdm(range(99)):\n",
    "    data = X_r[...,i]\n",
    "    X_train = data[:, :-1]\n",
    "    y_train = data[:, -1]\n",
    "    \n",
    "    model.fit(X_train, y_train)\n"
   ]
  },
  {
   "cell_type": "code",
   "execution_count": 29,
   "metadata": {
    "id": "7g_me7RlQ3Ec"
   },
   "outputs": [],
   "source": [
    "model.save_model(\"predictor.dump\")"
   ]
  },
  {
   "cell_type": "markdown",
   "metadata": {},
   "source": [
    "## Load model"
   ]
  },
  {
   "cell_type": "code",
   "execution_count": 15,
   "metadata": {
    "id": "xf5I4YlqRL_b"
   },
   "outputs": [
    {
     "data": {
      "text/plain": [
       "<catboost.core.CatBoostRegressor at 0x12ee23518>"
      ]
     },
     "execution_count": 15,
     "metadata": {},
     "output_type": "execute_result"
    }
   ],
   "source": [
    "model = CatBoostRegressor()\n",
    "model.load_model(\"predictor.dump\")"
   ]
  },
  {
   "cell_type": "code",
   "execution_count": 25,
   "metadata": {},
   "outputs": [],
   "source": [
    "d = X_r[...,-1]\n",
    "x, y = d[:, :-1], d[:, -1]\n",
    "\n",
    "y_pred = model.predict(x)"
   ]
  },
  {
   "cell_type": "code",
   "execution_count": 26,
   "metadata": {},
   "outputs": [
    {
     "data": {
      "text/plain": [
       "0.026174722866557754"
      ]
     },
     "execution_count": 26,
     "metadata": {},
     "output_type": "execute_result"
    }
   ],
   "source": [
    "from sklearn.metrics import mean_absolute_error as mae\n",
    "\n",
    "mae(y, y_pred)"
   ]
  },
  {
   "cell_type": "code",
   "execution_count": null,
   "metadata": {},
   "outputs": [],
   "source": []
  }
 ],
 "metadata": {
  "accelerator": "GPU",
  "colab": {
   "name": "Prediction.ipynb",
   "provenance": []
  },
  "kernelspec": {
   "display_name": "Python 3",
   "language": "python",
   "name": "python3"
  },
  "language_info": {
   "codemirror_mode": {
    "name": "ipython",
    "version": 3
   },
   "file_extension": ".py",
   "mimetype": "text/x-python",
   "name": "python",
   "nbconvert_exporter": "python",
   "pygments_lexer": "ipython3",
   "version": "3.7.5"
  },
  "widgets": {
   "application/vnd.jupyter.widget-state+json": {
    "4043162ec0454b4aa910120f3ebff71f": {
     "model_module": "@jupyter-widgets/controls",
     "model_name": "ProgressStyleModel",
     "state": {
      "_model_module": "@jupyter-widgets/controls",
      "_model_module_version": "1.5.0",
      "_model_name": "ProgressStyleModel",
      "_view_count": null,
      "_view_module": "@jupyter-widgets/base",
      "_view_module_version": "1.2.0",
      "_view_name": "StyleView",
      "bar_color": null,
      "description_width": "initial"
     }
    },
    "4b0a2b86144b4dadbb12623f1c4d042e": {
     "model_module": "@jupyter-widgets/controls",
     "model_name": "DescriptionStyleModel",
     "state": {
      "_model_module": "@jupyter-widgets/controls",
      "_model_module_version": "1.5.0",
      "_model_name": "DescriptionStyleModel",
      "_view_count": null,
      "_view_module": "@jupyter-widgets/base",
      "_view_module_version": "1.2.0",
      "_view_name": "StyleView",
      "description_width": ""
     }
    },
    "55dd49ab314443088bc0403229f15cee": {
     "model_module": "@jupyter-widgets/controls",
     "model_name": "HBoxModel",
     "state": {
      "_dom_classes": [],
      "_model_module": "@jupyter-widgets/controls",
      "_model_module_version": "1.5.0",
      "_model_name": "HBoxModel",
      "_view_count": null,
      "_view_module": "@jupyter-widgets/controls",
      "_view_module_version": "1.5.0",
      "_view_name": "HBoxView",
      "box_style": "",
      "children": [
       "IPY_MODEL_867b23c205864822a5496d7f41da277e",
       "IPY_MODEL_faa856f1873b4aa9b1ba6fb60786e988"
      ],
      "layout": "IPY_MODEL_bbefc1ae64da4428a90288d12bb7f799"
     }
    },
    "60243a572046424884313401e67613c2": {
     "model_module": "@jupyter-widgets/base",
     "model_name": "LayoutModel",
     "state": {
      "_model_module": "@jupyter-widgets/base",
      "_model_module_version": "1.2.0",
      "_model_name": "LayoutModel",
      "_view_count": null,
      "_view_module": "@jupyter-widgets/base",
      "_view_module_version": "1.2.0",
      "_view_name": "LayoutView",
      "align_content": null,
      "align_items": null,
      "align_self": null,
      "border": null,
      "bottom": null,
      "display": null,
      "flex": null,
      "flex_flow": null,
      "grid_area": null,
      "grid_auto_columns": null,
      "grid_auto_flow": null,
      "grid_auto_rows": null,
      "grid_column": null,
      "grid_gap": null,
      "grid_row": null,
      "grid_template_areas": null,
      "grid_template_columns": null,
      "grid_template_rows": null,
      "height": null,
      "justify_content": null,
      "justify_items": null,
      "left": null,
      "margin": null,
      "max_height": null,
      "max_width": null,
      "min_height": null,
      "min_width": null,
      "object_fit": null,
      "object_position": null,
      "order": null,
      "overflow": null,
      "overflow_x": null,
      "overflow_y": null,
      "padding": null,
      "right": null,
      "top": null,
      "visibility": null,
      "width": null
     }
    },
    "867b23c205864822a5496d7f41da277e": {
     "model_module": "@jupyter-widgets/controls",
     "model_name": "FloatProgressModel",
     "state": {
      "_dom_classes": [],
      "_model_module": "@jupyter-widgets/controls",
      "_model_module_version": "1.5.0",
      "_model_name": "FloatProgressModel",
      "_view_count": null,
      "_view_module": "@jupyter-widgets/controls",
      "_view_module_version": "1.5.0",
      "_view_name": "ProgressView",
      "bar_style": "success",
      "description": "100%",
      "description_tooltip": null,
      "layout": "IPY_MODEL_60243a572046424884313401e67613c2",
      "max": 1280561,
      "min": 0,
      "orientation": "horizontal",
      "style": "IPY_MODEL_4043162ec0454b4aa910120f3ebff71f",
      "value": 1280561
     }
    },
    "ad8df5d516104f78b2071078fcbd2597": {
     "model_module": "@jupyter-widgets/base",
     "model_name": "LayoutModel",
     "state": {
      "_model_module": "@jupyter-widgets/base",
      "_model_module_version": "1.2.0",
      "_model_name": "LayoutModel",
      "_view_count": null,
      "_view_module": "@jupyter-widgets/base",
      "_view_module_version": "1.2.0",
      "_view_name": "LayoutView",
      "align_content": null,
      "align_items": null,
      "align_self": null,
      "border": null,
      "bottom": null,
      "display": null,
      "flex": null,
      "flex_flow": null,
      "grid_area": null,
      "grid_auto_columns": null,
      "grid_auto_flow": null,
      "grid_auto_rows": null,
      "grid_column": null,
      "grid_gap": null,
      "grid_row": null,
      "grid_template_areas": null,
      "grid_template_columns": null,
      "grid_template_rows": null,
      "height": null,
      "justify_content": null,
      "justify_items": null,
      "left": null,
      "margin": null,
      "max_height": null,
      "max_width": null,
      "min_height": null,
      "min_width": null,
      "object_fit": null,
      "object_position": null,
      "order": null,
      "overflow": null,
      "overflow_x": null,
      "overflow_y": null,
      "padding": null,
      "right": null,
      "top": null,
      "visibility": null,
      "width": null
     }
    },
    "bbefc1ae64da4428a90288d12bb7f799": {
     "model_module": "@jupyter-widgets/base",
     "model_name": "LayoutModel",
     "state": {
      "_model_module": "@jupyter-widgets/base",
      "_model_module_version": "1.2.0",
      "_model_name": "LayoutModel",
      "_view_count": null,
      "_view_module": "@jupyter-widgets/base",
      "_view_module_version": "1.2.0",
      "_view_name": "LayoutView",
      "align_content": null,
      "align_items": null,
      "align_self": null,
      "border": null,
      "bottom": null,
      "display": null,
      "flex": null,
      "flex_flow": null,
      "grid_area": null,
      "grid_auto_columns": null,
      "grid_auto_flow": null,
      "grid_auto_rows": null,
      "grid_column": null,
      "grid_gap": null,
      "grid_row": null,
      "grid_template_areas": null,
      "grid_template_columns": null,
      "grid_template_rows": null,
      "height": null,
      "justify_content": null,
      "justify_items": null,
      "left": null,
      "margin": null,
      "max_height": null,
      "max_width": null,
      "min_height": null,
      "min_width": null,
      "object_fit": null,
      "object_position": null,
      "order": null,
      "overflow": null,
      "overflow_x": null,
      "overflow_y": null,
      "padding": null,
      "right": null,
      "top": null,
      "visibility": null,
      "width": null
     }
    },
    "faa856f1873b4aa9b1ba6fb60786e988": {
     "model_module": "@jupyter-widgets/controls",
     "model_name": "HTMLModel",
     "state": {
      "_dom_classes": [],
      "_model_module": "@jupyter-widgets/controls",
      "_model_module_version": "1.5.0",
      "_model_name": "HTMLModel",
      "_view_count": null,
      "_view_module": "@jupyter-widgets/controls",
      "_view_module_version": "1.5.0",
      "_view_name": "HTMLView",
      "description": "",
      "description_tooltip": null,
      "layout": "IPY_MODEL_ad8df5d516104f78b2071078fcbd2597",
      "placeholder": "​",
      "style": "IPY_MODEL_4b0a2b86144b4dadbb12623f1c4d042e",
      "value": " 1280561/1280561 [02:16&lt;00:00, 9371.99it/s]"
     }
    }
   }
  }
 },
 "nbformat": 4,
 "nbformat_minor": 4
}
